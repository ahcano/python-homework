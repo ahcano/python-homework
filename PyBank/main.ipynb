{
 "cells": [
  {
   "cell_type": "code",
   "execution_count": 5,
   "id": "435006e6-5ef6-4589-ba78-6120799d3785",
   "metadata": {
    "tags": []
   },
   "outputs": [],
   "source": [
    "#import pandas and numpy libraries to explore and analyze data\n",
    "\n",
    "import pandas as pd\n",
    "import numpy as np"
   ]
  },
  {
   "cell_type": "code",
   "execution_count": 11,
   "id": "4d4f9df3-cbba-4a70-acd5-21a69add21ab",
   "metadata": {
    "tags": []
   },
   "outputs": [],
   "source": [
    "# loading budget data\n",
    "budget_data = pd.read_csv(\"budget_data.csv\")\n",
    "                "
   ]
  },
  {
   "cell_type": "code",
   "execution_count": 12,
   "id": "88e3107b-f4de-423f-a0e9-d0b862d143c5",
   "metadata": {
    "tags": []
   },
   "outputs": [],
   "source": [
    "# calculating total number of months\n",
    "total_number_of_months = budget_data[\"Date\"].count()"
   ]
  },
  {
   "cell_type": "code",
   "execution_count": 25,
   "id": "8bdf6634-d870-4a82-a34d-7e58bed05d1d",
   "metadata": {
    "tags": []
   },
   "outputs": [
    {
     "name": "stdout",
     "output_type": "stream",
     "text": [
      "Total Months:\n"
     ]
    },
    {
     "data": {
      "text/plain": [
       "86"
      ]
     },
     "execution_count": 25,
     "metadata": {},
     "output_type": "execute_result"
    }
   ],
   "source": [
    "#print the result\n",
    "print (\"Total Months:\") \n",
    "total_number_of_months"
   ]
  },
  {
   "cell_type": "code",
   "execution_count": 14,
   "id": "9f8244f2-b24f-49d9-afab-d1b9592bb087",
   "metadata": {
    "tags": []
   },
   "outputs": [],
   "source": [
    "#calculate the net total of profit/losses\n",
    "net_p_l = budget_data[\"Profit/Losses\"].sum()"
   ]
  },
  {
   "cell_type": "code",
   "execution_count": 28,
   "id": "9385d03a-5567-4984-a144-7a7c34ef4318",
   "metadata": {
    "tags": []
   },
   "outputs": [
    {
     "name": "stdout",
     "output_type": "stream",
     "text": [
      "Total: $\n"
     ]
    },
    {
     "data": {
      "text/plain": [
       "38382578"
      ]
     },
     "execution_count": 28,
     "metadata": {},
     "output_type": "execute_result"
    }
   ],
   "source": [
    "#print the result\n",
    "print (\"Total: $\")\n",
    "net_p_l"
   ]
  },
  {
   "cell_type": "code",
   "execution_count": 32,
   "id": "37f083fa-b7d7-4e81-9800-d4f4155d8de3",
   "metadata": {
    "tags": []
   },
   "outputs": [
    {
     "name": "stdout",
     "output_type": "stream",
     "text": [
      "$\n"
     ]
    },
    {
     "data": {
      "text/plain": [
       "446309.0465116279"
      ]
     },
     "execution_count": 32,
     "metadata": {},
     "output_type": "execute_result"
    }
   ],
   "source": [
    "#calculate the average of changes in Profit/Losses over the entire period\n",
    "avg = net_p_l / total_number_of_months\n",
    "print (\"$\") \n",
    "avg"
   ]
  },
  {
   "cell_type": "code",
   "execution_count": 33,
   "id": "e354dad0-0a00-4272-845b-70af423809f6",
   "metadata": {
    "tags": []
   },
   "outputs": [],
   "source": [
    "#calculate the mean of changes in Profit/Losses over the entire period\n",
    "mean = budget_data[\"Profit/Losses\"].mean()"
   ]
  },
  {
   "cell_type": "code",
   "execution_count": 34,
   "id": "4fda39ff-c572-4a48-976e-abde4ff1466d",
   "metadata": {
    "tags": []
   },
   "outputs": [
    {
     "data": {
      "text/plain": [
       "446309.0465116279"
      ]
     },
     "execution_count": 34,
     "metadata": {},
     "output_type": "execute_result"
    }
   ],
   "source": [
    "mean"
   ]
  },
  {
   "cell_type": "code",
   "execution_count": null,
   "id": "bc130784-ee74-4f0a-8999-43fd6ef61995",
   "metadata": {},
   "outputs": [],
   "source": []
  }
 ],
 "metadata": {
  "kernelspec": {
   "display_name": "Python 3 (ipykernel)",
   "language": "python",
   "name": "python3"
  },
  "language_info": {
   "codemirror_mode": {
    "name": "ipython",
    "version": 3
   },
   "file_extension": ".py",
   "mimetype": "text/x-python",
   "name": "python",
   "nbconvert_exporter": "python",
   "pygments_lexer": "ipython3",
   "version": "3.11.4"
  }
 },
 "nbformat": 4,
 "nbformat_minor": 5
}
