{
 "cells": [
  {
   "cell_type": "code",
   "execution_count": 63,
   "id": "435006e6-5ef6-4589-ba78-6120799d3785",
   "metadata": {
    "tags": []
   },
   "outputs": [],
   "source": [
    "#import pandas to explore and analyze data\n",
    "import pandas as pd\n",
    "import csv\n",
    "from pathlib import Path"
   ]
  },
  {
   "cell_type": "code",
   "execution_count": 64,
   "id": "4d4f9df3-cbba-4a70-acd5-21a69add21ab",
   "metadata": {
    "tags": []
   },
   "outputs": [
    {
     "name": "stdout",
     "output_type": "stream",
     "text": [
      "Total Months: 86\n",
      "Net Total P/L: $ 38382578\n",
      "Average change in P/L over the entire period is $ -2315.1176470588234\n",
      "The greatest increase in profits is: 25 1926159.0\n",
      "The greatest decrease in profits is: 44 -2196167.0\n"
     ]
    }
   ],
   "source": [
    "# loading budget data\n",
    "budget_data = pd.read_csv(\"budget_data.csv\")  \n",
    "\n",
    "# calculating total number of months\n",
    "total_number_of_months = budget_data[\"Date\"].count()\n",
    "\n",
    "#print the result\n",
    "print(\"Total Months:\", total_number_of_months)\n",
    "\n",
    "#calculate the net total of profit/losses\n",
    "net_p_l = budget_data[\"Profit/Losses\"].sum()\n",
    "\n",
    "#print the result\n",
    "print (\"Net Total P/L: $\",net_p_l)\n",
    "\n",
    "#calculate the changes in profit/losses\n",
    "budget_data[\"Change\"] = budget_data[\"Profit/Losses\"].diff()\n",
    "\n",
    "#calculate the average of changes in Profit/Losses over the entire period\n",
    "avg_change = budget_data[\"Change\"].mean()\n",
    "print (\"Average change in P/L over the entire period is $\", avg_change)\n",
    "\n",
    "#Calculate the greatest increase in profits\n",
    "greatest_increase = budget_data[\"Change\"].idxmax()\n",
    "greatest_increase_date = budget_data.loc[greatest_increase, \"Date\"]\n",
    "greatest_increase_amount = budget_data.loc[greatest_increase, \"Change\"]\n",
    "\n",
    "#Print the greatest increase in profits\n",
    "print (\"The greatest increase in profits is:\", greatest_increase, greatest_increase_amount)\n",
    "\n",
    "#Calculate the greatest decrease in profits\n",
    "greatest_decrease = budget_data[\"Change\"].idxmin()\n",
    "greatest_decrease_date = budget_data.loc[greatest_decrease, \"Date\"]\n",
    "greatest_decrease_amount = budget_data.loc[greatest_decrease, \"Change\"]\n",
    "\n",
    "#Print the greatest decrease in profits\n",
    "print (\"The greatest decrease in profits is:\", greatest_decrease, greatest_decrease_amount)\n",
    "\n",
    "#deprecated code ==== calculate the mean of changes in Profit/Losses over the entire period\n",
    "#mean = budget_data[\"Profit/Losses\"].mean()\n",
    "#print (\"mean is:\", mean)\n"
   ]
  },
  {
   "cell_type": "code",
   "execution_count": 65,
   "id": "872e43b4-aaee-4ff0-b108-78820c6f1efb",
   "metadata": {
    "tags": []
   },
   "outputs": [],
   "source": [
    "# Set output file name\n",
    "output_path = 'PyBank_output.txt'\n"
   ]
  },
  {
   "cell_type": "code",
   "execution_count": 66,
   "id": "aab7ae89-88b1-44d9-a02a-3b3937154b12",
   "metadata": {
    "tags": []
   },
   "outputs": [],
   "source": [
    "# Open the output path as a file object\n",
    "with open(output_path, 'w') as file:\n",
    "    # Write daily_average to the output file, convert to string\n",
    "    file.write(f\"\"\"FINANCIAL ANALYSIS\n",
    "-------------------------------------------------------------------------\n",
    "The total months is {total_number_of_months}.\n",
    "The total is: $ {net_p_l}\n",
    "Average change in P/L over the entire period is $: {avg_change}\n",
    "The greatest increase in profits is $:{greatest_increase} {greatest_increase_amount}\n",
    "The greatest decrease in profits is $:{greatest_decrease} {greatest_decrease_amount}\n",
    "\n",
    "\"\"\")\n",
    "#The greatest decrease in profits is:{avg}\n"
   ]
  },
  {
   "cell_type": "code",
   "execution_count": 67,
   "id": "7bdd2557-d4b2-4619-8f0a-88c5d6000ecb",
   "metadata": {
    "tags": []
   },
   "outputs": [],
   "source": [
    "# Set output file name\n",
    "output_path = 'PyBank_output.txt'"
   ]
  },
  {
   "cell_type": "code",
   "execution_count": null,
   "id": "6103acaa-b80e-4c41-86e9-6ca65af14a3d",
   "metadata": {},
   "outputs": [],
   "source": []
  }
 ],
 "metadata": {
  "kernelspec": {
   "display_name": "Python 3 (ipykernel)",
   "language": "python",
   "name": "python3"
  },
  "language_info": {
   "codemirror_mode": {
    "name": "ipython",
    "version": 3
   },
   "file_extension": ".py",
   "mimetype": "text/x-python",
   "name": "python",
   "nbconvert_exporter": "python",
   "pygments_lexer": "ipython3",
   "version": "3.10.12"
  }
 },
 "nbformat": 4,
 "nbformat_minor": 5
}
