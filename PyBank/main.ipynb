{
 "cells": [
  {
   "cell_type": "code",
   "execution_count": 59,
   "id": "855346e7-64fd-4060-85d4-e588ed06ba67",
   "metadata": {
    "tags": []
   },
   "outputs": [],
   "source": [
    "#import library\n",
    "import csv"
   ]
  },
  {
   "cell_type": "code",
   "execution_count": 60,
   "id": "15d5d5e3-f45f-4b65-8380-df711f257234",
   "metadata": {
    "tags": []
   },
   "outputs": [],
   "source": [
    "# Initialize the variables\n",
    "total_months = 0\n",
    "net_total = 0\n",
    "previous_profit_loss = 0\n",
    "total_change = 0\n",
    "greatest_increase = {\"date\": \"\", \"amount\": float(\"-inf\")}\n",
    "greatest_decrease = {\"date\": \"\", \"amount\": float(\"inf\")}"
   ]
  },
  {
   "cell_type": "code",
   "execution_count": 61,
   "id": "24f6e6dd-b8a0-4329-8613-645a8f2456e0",
   "metadata": {
    "tags": []
   },
   "outputs": [],
   "source": [
    "# Read the csv file\n",
    "with open(\"budget_data.csv\", \"r\") as csvfile:\n",
    "    csvreader = csv.reader(csvfile, delimiter=\",\")\n",
    "    \n",
    "    # Skip header row\n",
    "    header = next(csvreader)\n",
    "    \n",
    "    for row in csvreader:\n",
    "        # Increment total months\n",
    "        total_months += 1\n",
    "        \n",
    "        # Extract data from row\n",
    "        date = row[0]\n",
    "        profit_loss = int(row[1])\n",
    "        \n",
    "        # Calculate net total \n",
    "        net_total += profit_loss\n",
    "        \n",
    "        # Calculate change in profit/loss\n",
    "        if total_months > 1:\n",
    "            change = profit_loss - previous_profit_loss\n",
    "            total_change += change\n",
    "        \n",
    "            # Check for greatest increase and decrease\n",
    "            if change > greatest_increase[\"amount\"]:\n",
    "                greatest_increase[\"date\"] = date\n",
    "                greatest_increase[\"amount\"] = change\n",
    "                \n",
    "            if change < greatest_decrease[\"amount\"]:\n",
    "                greatest_decrease[\"date\"] = date\n",
    "                greatest_decrease[\"amount\"] = change\n",
    "        \n",
    "        previous_profit_loss = profit_loss\n",
    "        \n",
    "# Calculate average change\n",
    "average_change = total_change / (total_months - 1)"
   ]
  },
  {
   "cell_type": "code",
   "execution_count": 62,
   "id": "c04de6e5-d21a-4174-b4ba-025307e0b727",
   "metadata": {},
   "outputs": [
    {
     "name": "stdout",
     "output_type": "stream",
     "text": [
      "FINANCIAL ANALYSIS\n",
      "---------------------------------------------------------------------------------------\n",
      "Total Months: 86\n",
      "Total: $38382578\n",
      "Average Change: $-2315.12\n",
      "Greatest Increase in Profits: Feb-2012 ($1926159)\n",
      "Greatest Decrease in Profits: Sep-2013 ($-2196167)\n"
     ]
    }
   ],
   "source": [
    "# Print the analysis\n",
    "print(\"FINANCIAL ANALYSIS\")\n",
    "print(\"---------------------------------------------------------------------------------------\")\n",
    "print(f\"Total Months: {total_months}\")\n",
    "print(f\"Total: ${net_total}\")\n",
    "print(f\"Average Change: ${average_change:.2f}\")\n",
    "print(f\"Greatest Increase in Profits: {greatest_increase['date']} (${greatest_increase['amount']:.0f})\")\n",
    "print(f\"Greatest Decrease in Profits: {greatest_decrease['date']} (${greatest_decrease['amount']:.0f})\")"
   ]
  },
  {
   "cell_type": "code",
   "execution_count": 63,
   "id": "9e8a1567-6c4c-4ab1-9da9-d34727ad0458",
   "metadata": {
    "tags": []
   },
   "outputs": [],
   "source": [
    "# Export the analysis  \n",
    "with open(\"PyBankoutput2.txt\", \"w\") as file:\n",
    "    file.write(\"FINANCIAL ANALYSIS\\n\")\n",
    "    file.write(\"---------------------------------------------------------------------------------------\\n\")\n",
    "    file.write(f\"Total Months: {total_months}\\n\")\n",
    "    file.write(f\"Total: ${net_total}\\n\")\n",
    "    file.write(f\"Average Change: ${average_change:.2f}\\n\")\n",
    "    file.write(f\"Greatest Increase in Profits: {greatest_increase['date']} (${greatest_increase['amount']:.0f})\\n\")\n",
    "    file.write(f\"Greatest Decrease in Profits: {greatest_decrease['date']} (${greatest_decrease['amount']:.0f})\\n\")"
   ]
  },
  {
   "cell_type": "code",
   "execution_count": null,
   "id": "5d11ba35-f548-42e0-b476-74e3098a7de3",
   "metadata": {},
   "outputs": [],
   "source": []
  }
 ],
 "metadata": {
  "kernelspec": {
   "display_name": "Python 3 (ipykernel)",
   "language": "python",
   "name": "python3"
  },
  "language_info": {
   "codemirror_mode": {
    "name": "ipython",
    "version": 3
   },
   "file_extension": ".py",
   "mimetype": "text/x-python",
   "name": "python",
   "nbconvert_exporter": "python",
   "pygments_lexer": "ipython3",
   "version": "3.10.12"
  }
 },
 "nbformat": 4,
 "nbformat_minor": 5
}
