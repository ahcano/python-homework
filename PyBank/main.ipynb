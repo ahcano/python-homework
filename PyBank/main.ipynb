{
 "cells": [
  {
   "cell_type": "code",
   "execution_count": 28,
   "id": "435006e6-5ef6-4589-ba78-6120799d3785",
   "metadata": {
    "tags": []
   },
   "outputs": [],
   "source": [
    "#import pandas to explore and analyze data\n",
    "import pandas as pd\n",
    "import csv\n",
    "from pathlib import Path"
   ]
  },
  {
   "cell_type": "code",
   "execution_count": 74,
   "id": "4d4f9df3-cbba-4a70-acd5-21a69add21ab",
   "metadata": {
    "tags": []
   },
   "outputs": [
    {
     "name": "stdout",
     "output_type": "stream",
     "text": [
      "Total Months: 86\n",
      "Total: $ 38382578\n",
      "average is $ 446309.0465116279\n",
      "mean is: 446309.0465116279\n",
      "The greatest increase in profits is:\n",
      "The greatest decrease in profits is:\n"
     ]
    }
   ],
   "source": [
    "# loading budget data\n",
    "budget_data = pd.read_csv(\"budget_data.csv\")  \n",
    "# calculating total number of months\n",
    "total_number_of_months = budget_data[\"Date\"].count()\n",
    "#print the result\n",
    "print(\"Total Months:\", total_number_of_months)\n",
    "#calculate the net total of profit/losses\n",
    "net_p_l = budget_data[\"Profit/Losses\"].sum()\n",
    "#print the result\n",
    "print (\"Total: $\",net_p_l)\n",
    "#calculate the average of changes in Profit/Losses over the entire period\n",
    "avg = net_p_l / total_number_of_months\n",
    "print (\"average is $\", avg)\n",
    "#calculate the mean of changes in Profit/Losses over the entire period\n",
    "mean = budget_data[\"Profit/Losses\"].mean()\n",
    "print (\"mean is:\", mean)\n",
    "print (\"The greatest increase in profits is:\")\n",
    "print (\"The greatest decrease in profits is:\")"
   ]
  },
  {
   "cell_type": "code",
   "execution_count": 75,
   "id": "872e43b4-aaee-4ff0-b108-78820c6f1efb",
   "metadata": {
    "tags": []
   },
   "outputs": [],
   "source": [
    "#Calculate the greatest increase in profits"
   ]
  },
  {
   "cell_type": "code",
   "execution_count": 76,
   "id": "d19a7d22-7e2f-4f80-9a63-d2c891949f61",
   "metadata": {
    "tags": []
   },
   "outputs": [],
   "source": [
    "#Calculate the greatest decrease in profits"
   ]
  },
  {
   "cell_type": "code",
   "execution_count": 85,
   "id": "aab7ae89-88b1-44d9-a02a-3b3937154b12",
   "metadata": {
    "tags": []
   },
   "outputs": [],
   "source": [
    "# Open the output path as a file object\n",
    "with open(output_path, 'w') as file:\n",
    "    # Write daily_average to the output file, convert to string\n",
    "    file.write(f\"\"\"Financial Analysis\n",
    "The total months is {total_number_of_months}.\n",
    "The total is: $ {net_p_l}\n",
    "The greatest increase in profits is:{avg}\n",
    "The greatest decrease in profits is:{total_number_of_months}\n",
    "\"\"\")    "
   ]
  },
  {
   "cell_type": "code",
   "execution_count": 83,
   "id": "7bdd2557-d4b2-4619-8f0a-88c5d6000ecb",
   "metadata": {
    "tags": []
   },
   "outputs": [],
   "source": [
    "# Set output file name\n",
    "output_path = 'PyBank_output.txt'"
   ]
  },
  {
   "cell_type": "code",
   "execution_count": null,
   "id": "51183fb3-f290-455c-977f-1c1be6eee372",
   "metadata": {},
   "outputs": [],
   "source": []
  },
  {
   "cell_type": "code",
   "execution_count": null,
   "id": "ec3eee22-5763-4430-b11d-a194fd44b37c",
   "metadata": {},
   "outputs": [],
   "source": []
  }
 ],
 "metadata": {
  "kernelspec": {
   "display_name": "Python 3 (ipykernel)",
   "language": "python",
   "name": "python3"
  },
  "language_info": {
   "codemirror_mode": {
    "name": "ipython",
    "version": 3
   },
   "file_extension": ".py",
   "mimetype": "text/x-python",
   "name": "python",
   "nbconvert_exporter": "python",
   "pygments_lexer": "ipython3",
   "version": "3.10.12"
  }
 },
 "nbformat": 4,
 "nbformat_minor": 5
}
